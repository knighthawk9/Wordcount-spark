{
 "cells": [
  {
   "cell_type": "code",
   "execution_count": 11,
   "metadata": {
    "collapsed": false
   },
   "outputs": [],
   "source": [
    "from pyspark import SparkConf, SparkContext\n",
    "from pyspark.sql.types import *\n",
    "import re\n",
    "\n",
    "rdd=sc.textFile(\"/resources/data/WORDCOUNT/MarkTwain.txt\")\n"
   ]
  },
  {
   "cell_type": "code",
   "execution_count": 12,
   "metadata": {
    "collapsed": false
   },
   "outputs": [
    {
     "data": {
      "text/plain": [
       "[u'The Project Gutenberg EBook of The Entire Project Gutenberg Works of Mark', u'Twain, by Mark Twain (Samuel Clemens)', u'', u'This eBook is for the use of anyone anywhere at no cost and with', u'almost no restrictions whatsoever.  You may copy it, give it away or', u're-use it under the terms of the Project Gutenberg License included', u'with this eBook or online at www.gutenberg.net', u'', u'', u'Title: The Entire Project Gutenberg Works of Mark Twain']"
      ]
     },
     "execution_count": 12,
     "metadata": {},
     "output_type": "execute_result"
    }
   ],
   "source": [
    "rdd.take(10)"
   ]
  },
  {
   "cell_type": "code",
   "execution_count": 13,
   "metadata": {
    "collapsed": false
   },
   "outputs": [
    {
     "data": {
      "text/plain": [
       "['the', 'project', 'gutenberg', 'ebook', 'of', 'the', 'entire', 'project', 'gutenberg', 'work', 'of', 'mark', 'twain', 'by', 'mark', 'twain', 'samuel', 'clemen', '', '', 'thi', 'ebook', 'i', 'for', 'the', 'use', 'of', 'anyone', 'anywhere', 'at', 'no', 'cost', 'and', 'with', 'almost', 'no', 'restriction', 'whatsoever', 'you', 'may', 'copy', 'it', 'give', 'it', 'away', 'or', 're', 'use', 'it', 'under']"
      ]
     },
     "execution_count": 13,
     "metadata": {},
     "output_type": "execute_result"
    }
   ],
   "source": [
    "def parse(lines):\n",
    "    return re.compile(r'\\W+', re.UNICODE).split(lines.lower())\n",
    "rdd1 = rdd.flatMap(parse).map(lambda x:re.sub(r'(s|ly|ed|ing|ness)\\b','',str(x)))\n",
    "rdd1.take(50)"
   ]
  },
  {
   "cell_type": "code",
   "execution_count": 14,
   "metadata": {
    "collapsed": false
   },
   "outputs": [
    {
     "data": {
      "text/plain": [
       "['the', 'project', 'gutenberg', 'ebook', 'of', 'the', 'entire', 'project', 'gutenberg', 'work', 'of', 'mark', 'twain', 'by', 'mark', 'twain', 'samuel', 'clemen', '', '', 'thi', 'ebook', 'i', 'for', 'the', 'use', 'of', 'anyone', 'anywhere', 'at', 'no', 'cost', 'and', 'with', 'almost', 'no', 'restriction', 'whatsoever', 'you', 'may', 'copy', 'it', 'give', 'it', 'away', 'or', 're', 'use', 'it', 'under']"
      ]
     },
     "execution_count": 14,
     "metadata": {},
     "output_type": "execute_result"
    }
   ],
   "source": [
    "rdd2=rdd1.map(lambda x:re.sub(r'\\)|\\(|\\*|\\]|\\[','',str(x)))\n",
    "rdd2.take(50)\n"
   ]
  },
  {
   "cell_type": "code",
   "execution_count": null,
   "metadata": {
    "collapsed": false
   },
   "outputs": [],
   "source": [
    "rdd3=rdd2.map(lambda x:(x,1)).reduceByKey(lambda x,y:x+y)\n",
    "sorted=rdd3.map(lambda x: (x[1], x[0])).sortByKey(ascending=False)\n",
    "results=sorted.collect()"
   ]
  },
  {
   "cell_type": "code",
   "execution_count": null,
   "metadata": {
    "collapsed": false
   },
   "outputs": [
    {
     "name": "stdout",
     "output_type": "stream",
     "text": [
      "the:\t\t155360\n",
      "and:\t\t122640\n",
      "a:\t\t90166\n",
      "of:\t\t79506\n",
      "i:\t\t72899\n",
      "to:\t\t71718\n",
      "it:\t\t55996\n",
      "in:\t\t48208\n",
      "that:\t\t40837\n",
      "wa:\t\t39619\n",
      "he:\t\t33687\n",
      "for:\t\t22555\n",
      "you:\t\t22385\n",
      "hi:\t\t21775\n",
      "with:\t\t21095\n",
      "but:\t\t20878"
     ]
    }
   ],
   "source": [
    "for result in results:\n",
    "    count = str(result[0])\n",
    "    word = result[1].encode('ascii', 'ignore')\n",
    "    if (word):\n",
    "        print(word.decode() + \":\\t\\t\" + count)"
   ]
  }
 ],
 "metadata": {
  "kernelspec": {
   "display_name": "Apache Toree - PySpark",
   "language": "python",
   "name": "apache_toree_pyspark"
  },
  "language_info": {
   "name": "scala",
   "version": "2.10.4"
  },
  "widgets": {
   "state": {},
   "version": "1.1.2"
  }
 },
 "nbformat": 4,
 "nbformat_minor": 0
}
